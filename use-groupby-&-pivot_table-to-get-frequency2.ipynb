{
 "cells": [
  {
   "cell_type": "code",
   "execution_count": null,
   "id": "94ec88bf",
   "metadata": {},
   "outputs": [],
   "source": [
    "import pandas as pd\n",
    "import seaborn as sns"
   ]
  },
  {
   "cell_type": "code",
   "execution_count": null,
   "id": "f3386d34",
   "metadata": {},
   "outputs": [],
   "source": [
    "df = pd.read_csv(\"krx.csv\",dtype={\"Symbol\":object})"
   ]
  },
  {
   "cell_type": "code",
   "execution_count": null,
   "id": "f90032dd",
   "metadata": {},
   "outputs": [],
   "source": [
    "# 위의 groupby 결과를 scatterplot으로 그립니다.\n",
    "# df_market_year\n",
    "df_market_year = market_year.reset_index()\n",
    "df_market_year  = df_market_year.rename(columns={\"Symbol\":\"count\"})\n",
    "df_market_year \n",
    "plt.figure(figsize=(10,4))\n",
    "sns.scatterplot(data=df_market_year , x=\"ListingYear\", y=\"count\", hue=\"Market\")"
   ]
  },
  {
   "cell_type": "code",
   "execution_count": null,
   "id": "de606c7c",
   "metadata": {},
   "outputs": [],
   "source": [
    "# lineplot 그리기\n",
    "plt.figure(figsize=(10,4))\n",
    "sns.lineplot(data=df_market_year , x=\"ListingYear\", y=\"count\",hue=\"Market\", ci=None)"
   ]
  },
  {
   "cell_type": "code",
   "execution_count": null,
   "id": "a6eca14d",
   "metadata": {},
   "outputs": [],
   "source": [
    "# relplot으로 subplot 그리기 - scatter\n",
    "sns.relplot(data=df_market_year , x=\"ListingYear\", y=\"count\", hue=\"Market\",col=\"Market\")"
   ]
  },
  {
   "cell_type": "code",
   "execution_count": null,
   "id": "909c4f23",
   "metadata": {},
   "outputs": [],
   "source": [
    "# relplot으로 subplot 그리기 - line\n",
    "\n",
    "sns.relplot(data=df_market_year , x=\"ListingYear\", y=\"count\",\n",
    "            hue=\"Market\",row=\"Market\",kind=\"line\",height=5, aspect=3)"
   ]
  }
 ],
 "metadata": {
  "kernelspec": {
   "display_name": "Python 3 (ipykernel)",
   "language": "python",
   "name": "python3"
  },
  "language_info": {
   "codemirror_mode": {
    "name": "ipython",
    "version": 3
   },
   "file_extension": ".py",
   "mimetype": "text/x-python",
   "name": "python",
   "nbconvert_exporter": "python",
   "pygments_lexer": "ipython3",
   "version": "3.9.12"
  },
  "toc": {
   "base_numbering": 1,
   "nav_menu": {},
   "number_sections": true,
   "sideBar": true,
   "skip_h1_title": false,
   "title_cell": "Table of Contents",
   "title_sidebar": "Contents",
   "toc_cell": false,
   "toc_position": {},
   "toc_section_display": true,
   "toc_window_display": false
  }
 },
 "nbformat": 4,
 "nbformat_minor": 5
}
