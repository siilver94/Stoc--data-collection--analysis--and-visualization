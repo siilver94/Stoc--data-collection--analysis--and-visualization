{
 "cells": [
  {
   "cell_type": "code",
   "execution_count": null,
   "id": "03320a6e",
   "metadata": {},
   "outputs": [],
   "source": [
    "import pandas as pd\n",
    "import seaborn as sns\n",
    "\n",
    "df = pd.read_csv(\"krx.csv\",dtype={\"Symbol\":object})"
   ]
  },
  {
   "cell_type": "code",
   "execution_count": null,
   "id": "cee0bdbe",
   "metadata": {},
   "outputs": [],
   "source": [
    "# pd.to_datetime 을 통해 데이터의 타입을 변환합니다.\n",
    "df[\"ListingDate\"] = pd.to_datetime(df[\"ListingDate\"])\n",
    "df[\"ListingDate\"].head(1)"
   ]
  },
  {
   "cell_type": "code",
   "execution_count": null,
   "id": "7af6e267",
   "metadata": {},
   "outputs": [],
   "source": [
    "# ListingYear 파생변수 만들기\n",
    "df[\"ListingYear\"] = df[\"ListingDate\"].dt.year\n",
    "df[\"ListingYear\"].tail(5)"
   ]
  },
  {
   "cell_type": "code",
   "execution_count": null,
   "id": "607677fa",
   "metadata": {},
   "outputs": [],
   "source": [
    "# nan은 not a number의 약자로 결측치를 의미합니다.\n",
    "import numpy as np\n",
    "type(np.nan)"
   ]
  },
  {
   "cell_type": "code",
   "execution_count": null,
   "id": "8baa7f79",
   "metadata": {},
   "outputs": [],
   "source": []
  },
  {
   "cell_type": "code",
   "execution_count": null,
   "id": "d8d44a98",
   "metadata": {},
   "outputs": [],
   "source": []
  },
  {
   "cell_type": "code",
   "execution_count": null,
   "id": "f7a38fdb",
   "metadata": {},
   "outputs": [],
   "source": []
  }
 ],
 "metadata": {
  "kernelspec": {
   "display_name": "Python 3 (ipykernel)",
   "language": "python",
   "name": "python3"
  },
  "language_info": {
   "codemirror_mode": {
    "name": "ipython",
    "version": 3
   },
   "file_extension": ".py",
   "mimetype": "text/x-python",
   "name": "python",
   "nbconvert_exporter": "python",
   "pygments_lexer": "ipython3",
   "version": "3.9.12"
  },
  "toc": {
   "base_numbering": 1,
   "nav_menu": {},
   "number_sections": true,
   "sideBar": true,
   "skip_h1_title": false,
   "title_cell": "Table of Contents",
   "title_sidebar": "Contents",
   "toc_cell": false,
   "toc_position": {},
   "toc_section_display": true,
   "toc_window_display": false
  }
 },
 "nbformat": 4,
 "nbformat_minor": 5
}
