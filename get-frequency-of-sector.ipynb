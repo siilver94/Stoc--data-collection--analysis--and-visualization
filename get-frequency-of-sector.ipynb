{
 "cells": [
  {
   "cell_type": "code",
   "execution_count": null,
   "id": "fd8ffdd4",
   "metadata": {},
   "outputs": [],
   "source": [
    "import pandas as pd\n",
    "import seaborn as sns"
   ]
  },
  {
   "cell_type": "code",
   "execution_count": null,
   "id": "e9813bbb",
   "metadata": {},
   "outputs": [],
   "source": [
    "df = pd.read_csv(\"krx.csv\",dtype={\"Symbol\":object})"
   ]
  },
  {
   "cell_type": "code",
   "execution_count": null,
   "id": "5fe4d6e4",
   "metadata": {},
   "outputs": [],
   "source": [
    "# 섹터의 빈도수를 구합니다.\n",
    "# 상위 30개 섹터의 빈도수를 sector_count_top 변수에 할당합니다.\n",
    "# sector_count_top\n",
    "sector_count_top = df[\"Sector\"].value_counts().head(30)\n",
    "sector_count_top.index"
   ]
  },
  {
   "cell_type": "code",
   "execution_count": null,
   "id": "9bd4460c",
   "metadata": {},
   "outputs": [],
   "source": [
    "# df_sector_30\n",
    "df_sector_30  = df[df[\"Sector\"].isin(sector_count_top.index)]"
   ]
  },
  {
   "cell_type": "code",
   "execution_count": null,
   "id": "639516d5",
   "metadata": {},
   "outputs": [],
   "source": [
    "# Seaborn countplot 활용하여 빈도수를 표현합니다.\n",
    "plt.figure(figsize=(10,8))\n",
    "sns.countplot(data=df_sector_30, y=\"Sector\")"
   ]
  },
  {
   "cell_type": "code",
   "execution_count": null,
   "id": "81e06a30",
   "metadata": {},
   "outputs": [],
   "source": [
    "print(plt.colormaps())"
   ]
  },
  {
   "cell_type": "code",
   "execution_count": null,
   "id": "97090b60",
   "metadata": {},
   "outputs": [],
   "source": [
    "# 빈도수가 가장 많은 데이터 색인하기\n",
    "plt.figure(figsize=(10,8))\n",
    "sns.countplot(data=df_sector_30, y=\"Sector\", palette=\"magma\",\n",
    "              order=sector_count_top.index).set_title(\"섹터별 빈도수\")"
   ]
  }
 ],
 "metadata": {
  "kernelspec": {
   "display_name": "Python 3 (ipykernel)",
   "language": "python",
   "name": "python3"
  },
  "language_info": {
   "codemirror_mode": {
    "name": "ipython",
    "version": 3
   },
   "file_extension": ".py",
   "mimetype": "text/x-python",
   "name": "python",
   "nbconvert_exporter": "python",
   "pygments_lexer": "ipython3",
   "version": "3.9.12"
  },
  "toc": {
   "base_numbering": 1,
   "nav_menu": {},
   "number_sections": true,
   "sideBar": true,
   "skip_h1_title": false,
   "title_cell": "Table of Contents",
   "title_sidebar": "Contents",
   "toc_cell": false,
   "toc_position": {},
   "toc_section_display": true,
   "toc_window_display": false
  }
 },
 "nbformat": 4,
 "nbformat_minor": 5
}
