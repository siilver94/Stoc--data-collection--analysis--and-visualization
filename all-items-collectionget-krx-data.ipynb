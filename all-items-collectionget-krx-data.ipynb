{
 "cells": [
  {
   "cell_type": "code",
   "execution_count": null,
   "id": "8c77546c",
   "metadata": {},
   "outputs": [],
   "source": [
    "# 데이터 분석을 위해 pandas 불러오기\n",
    "import pandas as pd"
   ]
  },
  {
   "cell_type": "code",
   "execution_count": null,
   "id": "fa057bbb",
   "metadata": {},
   "outputs": [],
   "source": [
    "# FinanceDataReader 를 fdr 별칭으로 불러옵니다.\n",
    "# 라이브러리의 version을 확인하고 싶을 때는 .__version__ 으로 확인합니다. \n",
    "import FinanceDataReader as fdr\n",
    "fdr.__version__"
   ]
  },
  {
   "cell_type": "code",
   "execution_count": null,
   "id": "6c1a50d4",
   "metadata": {},
   "outputs": [],
   "source": [
    "# 도움말을 보고자 할때는 ? 를 사용하고 소스코드를 볼 때는 ??를 사용합니다.\n",
    "# 주피터 노트북에서는 함수나 메소드의 괄호 안에서 shift + tab 키를 누르면 도움말을 볼 수 있습니다."
   ]
  },
  {
   "cell_type": "code",
   "execution_count": null,
   "id": "eca16cc5",
   "metadata": {},
   "outputs": [],
   "source": [
    "# fdr.StockListing??\n",
    "df_krx = fdr.StockListing(\"KRX\")\n",
    "# KRX : KRX 종목 전체\n",
    "# KOSPI : KOSPI 종목\n",
    "# KOSDAQ : KOSDAQ 종목\n",
    "# KONEX : KONEX 종목\n",
    "# NASDAQ : 나스닥 종목\n",
    "# NYSE : 뉴욕증권거래소 종목\n",
    "# SP500 : S&P500 종목"
   ]
  },
  {
   "cell_type": "code",
   "execution_count": null,
   "id": "1a401a82",
   "metadata": {},
   "outputs": [],
   "source": [
    "# 한국거래소 상장종목 전체 가져오기\n",
    "df_krx.head()"
   ]
  },
  {
   "cell_type": "code",
   "execution_count": null,
   "id": "69800501",
   "metadata": {},
   "outputs": [],
   "source": [
    "# 행과 열의 크기를 봅니다.(행, 열) 순\n",
    "df_krx.shape"
   ]
  },
  {
   "cell_type": "code",
   "execution_count": null,
   "id": "df1e4a55",
   "metadata": {},
   "outputs": [],
   "source": [
    "# 전체 데이터프레임의 요약정보를 봅니다.\n",
    "df_krx.info()"
   ]
  },
  {
   "cell_type": "code",
   "execution_count": null,
   "id": "13eeb924",
   "metadata": {},
   "outputs": [],
   "source": [
    "# 기술통계 값을 요약합니다\n",
    "df_krx.describe()"
   ]
  },
  {
   "cell_type": "code",
   "execution_count": null,
   "id": "8b89548e",
   "metadata": {},
   "outputs": [],
   "source": [
    "# to_csv로 Dataframe을 데이터 저장용 파일인 CSV 파일로 바꿀 수 있습니다.\n",
    "df_krx.to_csv(\"krx.csv\",index=False)"
   ]
  },
  {
   "cell_type": "code",
   "execution_count": null,
   "id": "8ff3df58",
   "metadata": {},
   "outputs": [],
   "source": [
    "# CSV로 저장된 파일을 다시 DataFrame으로 읽어서 확인해 봅니다.\n",
    "pd.read_csv(\"krx.csv\")"
   ]
  }
 ],
 "metadata": {
  "kernelspec": {
   "display_name": "Python 3 (ipykernel)",
   "language": "python",
   "name": "python3"
  },
  "language_info": {
   "codemirror_mode": {
    "name": "ipython",
    "version": 3
   },
   "file_extension": ".py",
   "mimetype": "text/x-python",
   "name": "python",
   "nbconvert_exporter": "python",
   "pygments_lexer": "ipython3",
   "version": "3.9.12"
  },
  "toc": {
   "base_numbering": 1,
   "nav_menu": {},
   "number_sections": true,
   "sideBar": true,
   "skip_h1_title": false,
   "title_cell": "Table of Contents",
   "title_sidebar": "Contents",
   "toc_cell": false,
   "toc_position": {},
   "toc_section_display": true,
   "toc_window_display": false
  }
 },
 "nbformat": 4,
 "nbformat_minor": 5
}
