{
 "cells": [
  {
   "cell_type": "code",
   "execution_count": null,
   "id": "23f39b97",
   "metadata": {},
   "outputs": [],
   "source": [
    "# 데이터 분석을 위해 pandas 불러오기\n",
    "import pandas as pd\n",
    "\n",
    "# FinanceDataReader 를 fdr 별칭으로 불러오기\n",
    "import FinanceDataReader as fdr\n",
    "\n",
    "\n",
    "# 데이터 분석을 위해 pandas 불러오기\n",
    "import pandas as pd\n",
    "\n",
    "# FinanceDataReader 를 fdr 별칭으로 불러오기\n",
    "import FinanceDataReader as fdr\n",
    "\n",
    "df = pd.concat(item_list, axis=1)"
   ]
  },
  {
   "cell_type": "code",
   "execution_count": null,
   "id": "ed724a84",
   "metadata": {},
   "outputs": [],
   "source": [
    "# 첫번째 날 가격으로 나머지 가격을 나눠주고 -1을 해주면 수익률을 구할 수 있습니다.\n",
    "df_norm  = df / df.iloc[0] - 1\n",
    "df_norm"
   ]
  },
  {
   "cell_type": "code",
   "execution_count": null,
   "id": "eca5c703",
   "metadata": {},
   "outputs": [],
   "source": [
    "# df_norm 변수에 담긴 전체 종목에 대한 수익률을 시각화 합니다.\n",
    "df_norm.plot()"
   ]
  },
  {
   "cell_type": "code",
   "execution_count": null,
   "id": "7202ca6c",
   "metadata": {},
   "outputs": [],
   "source": [
    "# 계산된 수익률에 대한 기술통계값 구하기\n",
    "df_norm.describe()"
   ]
  },
  {
   "cell_type": "markdown",
   "id": "db00468a",
   "metadata": {},
   "source": [
    "# 외도\n",
    "* 비대칭도(非對稱度, skewness) 또는 왜도(歪度)는 실수 값 확률 변수의 확률 분포 비대칭성을 나타내는 지표이다. 왜도의 값은 양수나 음수가 될 수 있으며 정의되지 않을 수도 있다.\n",
    "* 왜도가 음수일 경우에는 확률밀도함수의 왼쪽 부분에 긴 꼬리를 가지며 중앙값을 포함한 자료가 오른쪽에 더 많이 분포해 있다.\n",
    "* 왜도가 양수일 때는 확률밀도함수의 오른쪽 부분에 긴 꼬리를 가지며 자료가 왼쪽에 더 많이 분포해 있다는 것을 나타낸다.\n",
    "* 평균과 중앙값이 같으면 왜도는 0이 된다.\n",
    "\n",
    "# 첨도\n",
    "\n",
    "\n",
    "* 첨도(尖度, 영어: kurtosis 커토시스)는 확률분포의 뾰족한 정도를 나타내는 척도이다. 관측치들이 어느 정도 집중적으로 중심에 몰려 있는가를 측정할 때 사용된다.\n",
    "* 첨도값(K)이 3에 가까우면 산포도가 정규분포에 가깝다.\n",
    "* 3보다 작을 경우에는(K<3) 정규분포보다 더 완만하게 납작한 분포로 판단할 수 있으며,\n",
    "* 첨도값이 3보다 큰 양수이면(K>3) 산포는 정규분포보다 더 뾰족한 분포로 생각할 수 있다"
   ]
  },
  {
   "cell_type": "code",
   "execution_count": null,
   "id": "65334eaf",
   "metadata": {},
   "outputs": [],
   "source": [
    "# 수익률에 대한 히스토그램 그리기\n",
    "h = df_norm.hist(figsize = (12,12))\n",
    "\n",
    "# skew 로 수익률의 왜도를 구합니다.\n",
    "df_norm.skew()\n",
    "\n",
    "# kurt 로 첨도를 구합니다.\n",
    "df_norm.kurt()"
   ]
  }
 ],
 "metadata": {
  "kernelspec": {
   "display_name": "Python 3 (ipykernel)",
   "language": "python",
   "name": "python3"
  },
  "language_info": {
   "codemirror_mode": {
    "name": "ipython",
    "version": 3
   },
   "file_extension": ".py",
   "mimetype": "text/x-python",
   "name": "python",
   "nbconvert_exporter": "python",
   "pygments_lexer": "ipython3",
   "version": "3.9.12"
  },
  "toc": {
   "base_numbering": 1,
   "nav_menu": {},
   "number_sections": true,
   "sideBar": true,
   "skip_h1_title": false,
   "title_cell": "Table of Contents",
   "title_sidebar": "Contents",
   "toc_cell": false,
   "toc_position": {},
   "toc_section_display": true,
   "toc_window_display": false
  }
 },
 "nbformat": 4,
 "nbformat_minor": 5
}
