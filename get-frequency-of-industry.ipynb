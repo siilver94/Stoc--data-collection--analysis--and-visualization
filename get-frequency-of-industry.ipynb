{
 "cells": [
  {
   "cell_type": "code",
   "execution_count": null,
   "id": "509483b4",
   "metadata": {},
   "outputs": [],
   "source": [
    "import pandas as pd\n",
    "import seaborn as sns"
   ]
  },
  {
   "cell_type": "code",
   "execution_count": null,
   "id": "12b4d563",
   "metadata": {},
   "outputs": [],
   "source": [
    "df = pd.read_csv(\"krx.csv\",dtype={\"Symbol\":object})"
   ]
  },
  {
   "cell_type": "code",
   "execution_count": null,
   "id": "d5ef11fa",
   "metadata": {},
   "outputs": [],
   "source": [
    "# Industry 의 빈도수를 구합니다.\n",
    "# industry_top30\n",
    "\n",
    "industry_top30 = df[\"Industry\"].value_counts().head(30)\n",
    "industry_top30.index"
   ]
  },
  {
   "cell_type": "code",
   "execution_count": null,
   "id": "3f348279",
   "metadata": {},
   "outputs": [],
   "source": [
    "# Industry 빈도수를 pandas 의 plot 기능을 사용해 시각화 합니다.\n",
    "industry_top30.sort_values().plot.barh(figsize=(10,8), title=\"Industry Count\")\n",
    "\n",
    "df[df[\"Industry\"].isin(industry_top30.index)]"
   ]
  },
  {
   "cell_type": "code",
   "execution_count": null,
   "id": "79f2f4e3",
   "metadata": {},
   "outputs": [],
   "source": [
    "# seaborn\n",
    "plt.figure(figsize=(10,6))\n",
    "sns.countplot(data=df[df[\"Industry\"].isin(industry_top30.index)],\n",
    "             y=\"Industry\", \n",
    "              order=industry_top30.index).set_title(\"Industry Count\")"
   ]
  }
 ],
 "metadata": {
  "kernelspec": {
   "display_name": "Python 3 (ipykernel)",
   "language": "python",
   "name": "python3"
  },
  "language_info": {
   "codemirror_mode": {
    "name": "ipython",
    "version": 3
   },
   "file_extension": ".py",
   "mimetype": "text/x-python",
   "name": "python",
   "nbconvert_exporter": "python",
   "pygments_lexer": "ipython3",
   "version": "3.9.12"
  },
  "toc": {
   "base_numbering": 1,
   "nav_menu": {},
   "number_sections": true,
   "sideBar": true,
   "skip_h1_title": false,
   "title_cell": "Table of Contents",
   "title_sidebar": "Contents",
   "toc_cell": false,
   "toc_position": {},
   "toc_section_display": true,
   "toc_window_display": false
  }
 },
 "nbformat": 4,
 "nbformat_minor": 5
}
