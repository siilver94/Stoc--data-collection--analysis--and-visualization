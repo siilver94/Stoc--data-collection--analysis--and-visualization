{
 "cells": [
  {
   "cell_type": "code",
   "execution_count": null,
   "id": "e57b8d99",
   "metadata": {},
   "outputs": [],
   "source": [
    "# 데이터 분석을 위해 pandas 불러오기\n",
    "import pandas as pd\n",
    "# FinanceDataReader 를 fdr 별칭으로 가져오기\n",
    "import FinanceDataReader as fdr"
   ]
  },
  {
   "cell_type": "code",
   "execution_count": null,
   "id": "7312ddde",
   "metadata": {},
   "outputs": [],
   "source": [
    "# 불러올 종가의 목록 입니다.\n",
    "stock_dict = {\n",
    "    '삼성전자': '005930',\n",
    "    'SK하이닉스': '000660',\n",
    "    '현대차': '005380',\n",
    "    '셀트리온': '068270',\n",
    "    'LG화학': '051910',\n",
    "    'POSCO': '005490',\n",
    "    '삼성물산': '028260',\n",
    "    'NAVER': '035420'}\n",
    "stock_dict"
   ]
  },
  {
   "cell_type": "code",
   "execution_count": null,
   "id": "648e4db1",
   "metadata": {},
   "outputs": [],
   "source": [
    "# stock_dict 변수의 타입을 봅니다.\n",
    "type(stock_dict)\n",
    "\n",
    "# dict 는 key:value 구조 입니다. key만 봅니다.\n",
    "stock_dict.keys()\n",
    "\n",
    "# dict 는 key:value 구조 입니다. value만 봅니다.\n",
    "stock_dict.values()"
   ]
  },
  {
   "cell_type": "code",
   "execution_count": null,
   "id": "f6fd37fc",
   "metadata": {},
   "outputs": [],
   "source": [
    "# 반복문을 사용하여 여러 종목의 종가를 수집합니다.\n",
    "item_list = []\n",
    "for item_code in stock_dict.values():\n",
    "    close = fdr.DataReader(item_code, \"2020\", \"2021\")[\"Close\"]\n",
    "    item_list.append(close)\n",
    "item_list "
   ]
  },
  {
   "cell_type": "code",
   "execution_count": null,
   "id": "5dc51e3f",
   "metadata": {},
   "outputs": [],
   "source": [
    "# 수집한 리스트를 axis=1(컬럼)을 기준으로 병합(concat) 합니다.\n",
    "# 이 때, 컬럼은 stock_dict 의 key 값을 사용합니다.\n",
    "df = pd.concat(item_list, axis=1)\n",
    "df.columns = stock_dict.keys()\n",
    "df"
   ]
  }
 ],
 "metadata": {
  "kernelspec": {
   "display_name": "Python 3 (ipykernel)",
   "language": "python",
   "name": "python3"
  },
  "language_info": {
   "codemirror_mode": {
    "name": "ipython",
    "version": 3
   },
   "file_extension": ".py",
   "mimetype": "text/x-python",
   "name": "python",
   "nbconvert_exporter": "python",
   "pygments_lexer": "ipython3",
   "version": "3.9.12"
  },
  "toc": {
   "base_numbering": 1,
   "nav_menu": {},
   "number_sections": true,
   "sideBar": true,
   "skip_h1_title": false,
   "title_cell": "Table of Contents",
   "title_sidebar": "Contents",
   "toc_cell": false,
   "toc_position": {},
   "toc_section_display": true,
   "toc_window_display": false
  }
 },
 "nbformat": 4,
 "nbformat_minor": 5
}
