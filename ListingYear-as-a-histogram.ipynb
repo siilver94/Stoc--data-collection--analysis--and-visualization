{
 "cells": [
  {
   "cell_type": "code",
   "execution_count": null,
   "id": "fa2524be",
   "metadata": {},
   "outputs": [],
   "source": [
    "import pandas as pd\n",
    "import seaborn as sns"
   ]
  },
  {
   "cell_type": "code",
   "execution_count": null,
   "id": "7af8e762",
   "metadata": {},
   "outputs": [],
   "source": [
    "df = pd.read_csv(\"krx.csv\",dtype={\"Symbol\":object})"
   ]
  },
  {
   "cell_type": "code",
   "execution_count": null,
   "id": "93039767",
   "metadata": {},
   "outputs": [],
   "source": [
    "df[\"ListingYear\"].describe()"
   ]
  },
  {
   "cell_type": "code",
   "execution_count": null,
   "id": "44ba6b47",
   "metadata": {},
   "outputs": [],
   "source": [
    "# bins 의 갯수에 따라 그래프의 표현 방법이 달라짐.\n",
    "df[\"ListingYear\"].plot.hist(bins=10)"
   ]
  },
  {
   "cell_type": "code",
   "execution_count": null,
   "id": "22230582",
   "metadata": {},
   "outputs": [],
   "source": [
    "df[\"ListingYear\"].plot.kde()"
   ]
  }
 ],
 "metadata": {
  "kernelspec": {
   "display_name": "Python 3 (ipykernel)",
   "language": "python",
   "name": "python3"
  },
  "language_info": {
   "codemirror_mode": {
    "name": "ipython",
    "version": 3
   },
   "file_extension": ".py",
   "mimetype": "text/x-python",
   "name": "python",
   "nbconvert_exporter": "python",
   "pygments_lexer": "ipython3",
   "version": "3.9.12"
  },
  "toc": {
   "base_numbering": 1,
   "nav_menu": {},
   "number_sections": true,
   "sideBar": true,
   "skip_h1_title": false,
   "title_cell": "Table of Contents",
   "title_sidebar": "Contents",
   "toc_cell": false,
   "toc_position": {},
   "toc_section_display": true,
   "toc_window_display": false
  }
 },
 "nbformat": 4,
 "nbformat_minor": 5
}
