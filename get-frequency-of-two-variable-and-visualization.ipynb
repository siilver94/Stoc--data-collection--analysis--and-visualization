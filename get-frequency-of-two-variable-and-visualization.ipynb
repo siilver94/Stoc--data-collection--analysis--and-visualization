{
 "cells": [
  {
   "cell_type": "code",
   "execution_count": null,
   "id": "a8549363",
   "metadata": {},
   "outputs": [],
   "source": [
    "import pandas as pd\n",
    "import seaborn as sns"
   ]
  },
  {
   "cell_type": "code",
   "execution_count": null,
   "id": "25c25548",
   "metadata": {},
   "outputs": [],
   "source": [
    "df = pd.read_csv(\"krx.csv\",dtype={\"Symbol\":object})"
   ]
  },
  {
   "cell_type": "code",
   "execution_count": null,
   "id": "757ad73b",
   "metadata": {},
   "outputs": [],
   "source": [
    "# pd.crosstab 을 통한 2개의 변수에 대한 빈도수 구하기\n",
    "# Market 과 Region 으로 빈도수 구하기\n",
    "pd.crosstab(df[\"Market\"],df[\"Region\"])"
   ]
  },
  {
   "cell_type": "code",
   "execution_count": null,
   "id": "0da27057",
   "metadata": {},
   "outputs": [],
   "source": [
    "# countplot : Market 과 Region 으로 빈도수 시각화 하기\n",
    "plt.figure(figsize=(10,4))\n",
    "plt.xticks(rotation=90)\n",
    "g = sns.countplot(data=df, y=\"Region\", hue=\"Market\").set_title(\"마켓별 지역별 빈도수\")"
   ]
  },
  {
   "cell_type": "code",
   "execution_count": null,
   "id": "09f07384",
   "metadata": {},
   "outputs": [],
   "source": [
    "## 연도별 상장 종목 빈도수 분석\n",
    "# Market, ListingYear 빈도수 구하기\n",
    "# market_year\n",
    "market_year = pd.crosstab(df[\"Market\"], df[\"ListingYear\"])\n",
    "market_year"
   ]
  },
  {
   "cell_type": "code",
   "execution_count": null,
   "id": "d360a18f",
   "metadata": {},
   "outputs": [],
   "source": [
    "# Seaborn countplot 활용하여 빈도수를 표현합니다.\n",
    "# hue 를 사용해 다른 변수를 함께 표현합니다. hue는 색상을 의미합니다.\n",
    "plt.figure(figsize=(10,8))\n",
    "plt.xticks(rotation=90)\n",
    "sns.countplot(data=df, x=\"ListingYear\", hue=\"Market\")"
   ]
  },
  {
   "cell_type": "code",
   "execution_count": null,
   "id": "a80f3b2c",
   "metadata": {},
   "outputs": [],
   "source": [
    "# Pandas plot 기능 활용하여 기본 그래프(line)를 그립니다.\n",
    "# Pandas plot으로 그릴 때 x축에 인덱스 값이 y축에는 컬럼에 있는 값이 들어갑니다.\n",
    "# 컬럼이 여러개라면 다른 색상으로 그려집니다.\n",
    "g  =market_year.T.plot(figsize=(10,4),\n",
    "                       title = \"연도별 상장 종목 수\", subplots=True)"
   ]
  },
  {
   "cell_type": "code",
   "execution_count": null,
   "id": "fbff6a2b",
   "metadata": {},
   "outputs": [],
   "source": [
    "# Pandas plot 기능 활용하여 막대 그래프(bar, barh)를 그립니다.\n",
    "market_year.T.plot.bar(figsize=(10,4), title=\"마켓 연도별 상장 종목 수\")"
   ]
  },
  {
   "cell_type": "code",
   "execution_count": null,
   "id": "bda2e618",
   "metadata": {},
   "outputs": [],
   "source": [
    "# 컬럼명의 데이터 타입을 int 형태로 변경합니다.\n",
    "# market_year.columns\n",
    "market_year.columns = market_year.columns.astype(int)\n",
    "market_year"
   ]
  },
  {
   "cell_type": "code",
   "execution_count": null,
   "id": "94d601d3",
   "metadata": {},
   "outputs": [],
   "source": [
    "# 막대(bar)그래프 그리기\n",
    "# market_year\n",
    "market_year.T.plot.bar(figsize=(10,6), rot=60)"
   ]
  }
 ],
 "metadata": {
  "kernelspec": {
   "display_name": "Python 3 (ipykernel)",
   "language": "python",
   "name": "python3"
  },
  "language_info": {
   "codemirror_mode": {
    "name": "ipython",
    "version": 3
   },
   "file_extension": ".py",
   "mimetype": "text/x-python",
   "name": "python",
   "nbconvert_exporter": "python",
   "pygments_lexer": "ipython3",
   "version": "3.9.12"
  },
  "toc": {
   "base_numbering": 1,
   "nav_menu": {},
   "number_sections": true,
   "sideBar": true,
   "skip_h1_title": false,
   "title_cell": "Table of Contents",
   "title_sidebar": "Contents",
   "toc_cell": false,
   "toc_position": {},
   "toc_section_display": true,
   "toc_window_display": false
  }
 },
 "nbformat": 4,
 "nbformat_minor": 5
}
