{
 "cells": [
  {
   "cell_type": "code",
   "execution_count": null,
   "id": "e7df5297",
   "metadata": {},
   "outputs": [],
   "source": [
    "# 데이터 분석을 위해 pandas 불러오기\n",
    "import pandas as pd\n",
    "\n",
    "# FinanceDataReader 를 fdr 별칭으로 불러오기\n",
    "import FinanceDataReader as fdr\n",
    "\n",
    "\n",
    "# 데이터 분석을 위해 pandas 불러오기\n",
    "import pandas as pd\n",
    "\n",
    "# FinanceDataReader 를 fdr 별칭으로 불러오기\n",
    "import FinanceDataReader as fdr"
   ]
  },
  {
   "cell_type": "code",
   "execution_count": null,
   "id": "414b6759",
   "metadata": {},
   "outputs": [],
   "source": [
    "df = pd.concat(item_list, axis=1)"
   ]
  },
  {
   "cell_type": "code",
   "execution_count": null,
   "id": "64488397",
   "metadata": {},
   "outputs": [],
   "source": [
    "# df2 변수에 'LG화학', '삼성전자' 만 따로 가져옵니다.\n",
    "# 첫번째 날 가격으로 나머지 가격을 나눠주고 -1을 해주면 수익률을 구할 수 있습니다.\n",
    "# df_plot 에 수익률을 담아줍니다.\n",
    "df2 = df[['LG화학', '삼성전자']]\n",
    "df_plot = df2 / df2.iloc[0] - 1\n",
    "df_plot"
   ]
  },
  {
   "cell_type": "code",
   "execution_count": null,
   "id": "67d3e988",
   "metadata": {},
   "outputs": [],
   "source": [
    "# 수익률 시각화 하기\n",
    "df_plot.plot()\n",
    "\n",
    "# pyplot의 subplots로 2개의 서브플롯을 만들고 2축그래프와 수익률 그래프를 비교해 봅니다.\n",
    "fig, axes = plt.subplots(1, 2, figsize = (15,4))\n",
    "\n",
    "df[[\"삼성전자\", \"LG화학\"]].plot(secondary_y=\"LG화학\", ax=axes[0], title= '2축 그래프')\n",
    "df_plot.plot(ax = axes[1], title = '수익률 그래프')"
   ]
  },
  {
   "cell_type": "code",
   "execution_count": null,
   "id": "d503f1b3",
   "metadata": {},
   "outputs": [],
   "source": [
    "# df_plot 데이터프레임을 통해 수익률의 분포를 histogram으로 시각화 합니다.\n",
    "h = df_plot.hist(figsize = (10,4), bins=50)"
   ]
  }
 ],
 "metadata": {
  "kernelspec": {
   "display_name": "Python 3 (ipykernel)",
   "language": "python",
   "name": "python3"
  },
  "language_info": {
   "codemirror_mode": {
    "name": "ipython",
    "version": 3
   },
   "file_extension": ".py",
   "mimetype": "text/x-python",
   "name": "python",
   "nbconvert_exporter": "python",
   "pygments_lexer": "ipython3",
   "version": "3.9.12"
  },
  "toc": {
   "base_numbering": 1,
   "nav_menu": {},
   "number_sections": true,
   "sideBar": true,
   "skip_h1_title": false,
   "title_cell": "Table of Contents",
   "title_sidebar": "Contents",
   "toc_cell": false,
   "toc_position": {},
   "toc_section_display": true,
   "toc_window_display": false
  }
 },
 "nbformat": 4,
 "nbformat_minor": 5
}
