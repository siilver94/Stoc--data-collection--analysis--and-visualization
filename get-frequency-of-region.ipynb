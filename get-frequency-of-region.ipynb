{
 "cells": [
  {
   "cell_type": "code",
   "execution_count": null,
   "id": "1249a21c",
   "metadata": {},
   "outputs": [],
   "source": [
    "import pandas as pd\n",
    "import seaborn as sns"
   ]
  },
  {
   "cell_type": "code",
   "execution_count": null,
   "id": "a915bcfd",
   "metadata": {},
   "outputs": [],
   "source": [
    "df = pd.read_csv(\"krx.csv\",dtype={\"Symbol\":object})"
   ]
  },
  {
   "cell_type": "code",
   "execution_count": null,
   "id": "fb9881bf",
   "metadata": {},
   "outputs": [],
   "source": [
    "# Region 의 빈도수를 구합니다.\n",
    "# value_counts()통해 지역별 상장회사의 빈도수를 봅니다.\n",
    "region_count = df[\"Region\"].value_counts().head(30)\n",
    "region_count.index"
   ]
  },
  {
   "cell_type": "code",
   "execution_count": null,
   "id": "cbbfc958",
   "metadata": {},
   "outputs": [],
   "source": [
    "# df[\"Region\"]\n",
    "df[df[\"Region\"].isin(region_count.index)]"
   ]
  },
  {
   "cell_type": "code",
   "execution_count": null,
   "id": "6f02332d",
   "metadata": {},
   "outputs": [],
   "source": [
    "# order 기능을 통해 빈도수를 정렬합니다.\n",
    "# df[\"Region\"].value_counts().index 로 Region 의 순서를 가져와서 지정합니다.\n",
    "sns.countplot(data = df[df[\"Region\"].isin(region_count.index)],\n",
    "             y = \"Region\", order = region_count.index).set_title(\"Region Count\")"
   ]
  }
 ],
 "metadata": {
  "kernelspec": {
   "display_name": "Python 3 (ipykernel)",
   "language": "python",
   "name": "python3"
  },
  "toc": {
   "base_numbering": 1,
   "nav_menu": {},
   "number_sections": true,
   "sideBar": true,
   "skip_h1_title": false,
   "title_cell": "Table of Contents",
   "title_sidebar": "Contents",
   "toc_cell": false,
   "toc_position": {},
   "toc_section_display": true,
   "toc_window_display": false
  }
 },
 "nbformat": 4,
 "nbformat_minor": 5
}
