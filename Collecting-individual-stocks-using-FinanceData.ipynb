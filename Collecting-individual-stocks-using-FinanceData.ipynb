{
 "cells": [
  {
   "cell_type": "code",
   "execution_count": null,
   "id": "5d35ec72",
   "metadata": {},
   "outputs": [],
   "source": [
    "# 데이터 분석을 위해 pandas 불러오기\n",
    "import pandas as pd\n",
    "# FinanceDataReader 를 fdr 별칭으로 가져오기\n",
    "import FinanceDataReader as fdr"
   ]
  },
  {
   "cell_type": "code",
   "execution_count": null,
   "id": "c3e1bb87",
   "metadata": {},
   "outputs": [],
   "source": [
    "# 삼성전자, 2017년~현재 일별 시세 받아오기\n",
    "# 삼성전자의 종목 번호 '005930'\n",
    "\n",
    "df = fdr.DataReader('005930', '2017', \"2021\")\n",
    "df.head()\n",
    "\n",
    "# 종가 시각화 하기\n",
    "df[\"Close\"].plot()"
   ]
  },
  {
   "cell_type": "code",
   "execution_count": null,
   "id": "20b4bc43",
   "metadata": {},
   "outputs": [],
   "source": [
    "# 저장해 놓았던 csv 파일로 분석을 합니다.\n",
    "# colab 사용자의 경우 이미 csv 파일이 지워졌을 수 있기 때문에 파일이 없을 경우 아래 셀에서 다시 load하면 됩니다.\n",
    "df_krx = pd.read_csv(\"krx.csv\")\n",
    "df_krx.shape"
   ]
  },
  {
   "cell_type": "code",
   "execution_count": null,
   "id": "46b58c86",
   "metadata": {},
   "outputs": [],
   "source": [
    "# DataFrame 에 어떤 데이터가 들어있는 head()로 일부 데이터만 가져와 봅니다.\n",
    "df_krx[[\"Symbol\", \"Name\"]].head()"
   ]
  },
  {
   "cell_type": "code",
   "execution_count": null,
   "id": "d112e85a",
   "metadata": {},
   "outputs": [],
   "source": [
    "# df_krx의 Name column 에서 '하이브'에 해당하는 row를 전부 가져오는데 Name column만 가져와\n",
    "# list 형태로 index 번호는 빼고 ['하이브'] 만 가져오게 되고 [0]을 통해 list에 있는 string만 가져오게 됩니다.\n",
    "# 하이브 (series) -> ['하이브'] (list) -> '하이브' (string)\n",
    "item_name = \"하이브\"\n",
    "df_krx.loc[df_krx[\"Name\"] == item_name, \"Symbol\"].tolist()[0]\n",
    "\n",
    "# '히트'라는 이름을 가진 상장사가 있는지 확인해 보기\n",
    "df_krx.loc[df_krx[\"Name\"] == \"이브\", \"Symbol\"].tolist()[0]"
   ]
  },
  {
   "cell_type": "code",
   "execution_count": null,
   "id": "31631940",
   "metadata": {},
   "outputs": [],
   "source": [
    "# 종목명으로 종목코드 받아오는 함수 만들기\n",
    "# df_krx의 Name column에서 같은 값이 있으면 \n",
    "# row의 Symbol column의 값을 list로 name_list에 저장하기\n",
    "# item_code_by_item_name 함수를 만듭니다.\n",
    "def item_code_by_item_name(item_name):\n",
    "    \"\"\"\n",
    "    종목명을 받아 종목코드를 찾아 반환하는 함수\n",
    "    \"\"\"\n",
    "    \n",
    "    item_code_list = df_krx.loc[df_krx[\"Name\"] == item_name, \"Symbol\"].tolist()\n",
    "    if len(item_code_list) > 0:\n",
    "        return item_code_list[0]\n",
    "    else :\n",
    "        return False\n",
    "\n",
    "item_code_by_item_name(\"하이브\")"
   ]
  },
  {
   "cell_type": "code",
   "execution_count": null,
   "id": "dda29c09",
   "metadata": {},
   "outputs": [],
   "source": [
    "# 네이버로 등록된 상장사는 없습니다.\n",
    "# 잘못 입력된 텍스트에 대해 예외처리를 하는지 확인합니다.\n",
    "item_code_by_item_name(\"네이버\")"
   ]
  },
  {
   "cell_type": "code",
   "execution_count": null,
   "id": "a146b465",
   "metadata": {},
   "outputs": [],
   "source": [
    "# 네이버는 NAVER로 등록되어 있습니다.\n",
    "item_code_by_item_name(\"NAVER\")\n",
    "\n",
    "# 삼성전자\n",
    "item_code_by_item_name(\"삼성전자\")"
   ]
  },
  {
   "cell_type": "code",
   "execution_count": null,
   "id": "7340853d",
   "metadata": {},
   "outputs": [],
   "source": [
    "# 셀트리온과 카카오게임즈도 확인하여 봅니다.\n",
    "item_code_by_item_name(\"셀트리온\")\n",
    "\n",
    "item_code_by_item_name(\"카카오게임즈\")\n",
    "\n",
    "fdr.DataReader(item_code_by_item_name(\"삼성전자\"))"
   ]
  }
 ],
 "metadata": {
  "kernelspec": {
   "display_name": "Python 3 (ipykernel)",
   "language": "python",
   "name": "python3"
  },
  "language_info": {
   "codemirror_mode": {
    "name": "ipython",
    "version": 3
   },
   "file_extension": ".py",
   "mimetype": "text/x-python",
   "name": "python",
   "nbconvert_exporter": "python",
   "pygments_lexer": "ipython3",
   "version": "3.9.12"
  },
  "toc": {
   "base_numbering": 1,
   "nav_menu": {},
   "number_sections": true,
   "sideBar": true,
   "skip_h1_title": false,
   "title_cell": "Table of Contents",
   "title_sidebar": "Contents",
   "toc_cell": false,
   "toc_position": {},
   "toc_section_display": true,
   "toc_window_display": false
  }
 },
 "nbformat": 4,
 "nbformat_minor": 5
}
