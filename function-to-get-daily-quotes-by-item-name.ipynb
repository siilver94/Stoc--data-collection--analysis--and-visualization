{
 "cells": [
  {
   "cell_type": "code",
   "execution_count": null,
   "id": "635109f6",
   "metadata": {},
   "outputs": [],
   "source": [
    "# 데이터 분석을 위해 pandas 불러오기\n",
    "import pandas as pd\n",
    "# FinanceDataReader 를 fdr 별칭으로 가져오기\n",
    "import FinanceDataReader as fdr"
   ]
  },
  {
   "cell_type": "code",
   "execution_count": null,
   "id": "f0f738e2",
   "metadata": {},
   "outputs": [],
   "source": [
    "# item_code_by_item_name : 종목명으로 종목번호 가져오기\n",
    "# find_item_list : 종목번호로 해당연도 데이터 가져오기\n",
    "# find_item_list는 year 값이 없으면 기본으로 2020년 데이터를 선택\n",
    "def find_item_list(item_name, year=2020):\n",
    "    \"\"\"\n",
    "    종목명을 넘겨주면 일별시세를 반환하는 함수\n",
    "    내부에서 종목명으로 종목코드를 반환하는 함수(item_code_by_item_name)로\n",
    "    종목의 시세를 수집합니다.\n",
    "    \"\"\"\n",
    "    item_code = item_code_by_item_name(item_name)\n",
    "    if item_code:\n",
    "        df_day = fdr.DataReader(item_code_by_item_name(item_name), str(year))\n",
    "        return df_day\n",
    "    else:\n",
    "        return False\n",
    "\n",
    "\n",
    "\n",
    "find_item_list(\"NAVER\", 2017)"
   ]
  },
  {
   "cell_type": "code",
   "execution_count": null,
   "id": "b2922756",
   "metadata": {},
   "outputs": [],
   "source": [
    "# LG화학의 데이터를 가져옵니다.\n",
    "find_item_list(\"LG화학\")\n",
    "\n",
    "# 빅히트(하이브)의 데이터를 가져옵니다.\n",
    "# stock_daily 변수에 담습니다.\n",
    "stock_daily = find_item_list(\"하이브\")\n",
    "stock_daily"
   ]
  },
  {
   "cell_type": "code",
   "execution_count": null,
   "id": "79be4103",
   "metadata": {},
   "outputs": [],
   "source": [
    "# stock_daily 변수에 할당된 수집된 데이터의 종가 그래프를 그립니다.\n",
    "stock_daily[\"Close\"].plot()"
   ]
  },
  {
   "cell_type": "code",
   "execution_count": null,
   "id": "bdc4961f",
   "metadata": {},
   "outputs": [],
   "source": [
    "# 전체 데이터프레임을 plot() 으로 시각화 하면 수치 데이터 전체를 선그래프로 그립니다.\n",
    "stock_daily.plot()"
   ]
  },
  {
   "cell_type": "code",
   "execution_count": null,
   "id": "2e9fcc8f",
   "metadata": {},
   "outputs": [],
   "source": [
    "# 수집한 종목의 선그래프를 Pandas 로 그립니다.\n",
    "# 스케일이 다르기 때문에 subplots를 사용해 그려봅니다.\n",
    "g = stock_daily.plot(subplots = True, figsize = (10,8))"
   ]
  },
  {
   "cell_type": "code",
   "execution_count": null,
   "id": "cee65eb5",
   "metadata": {},
   "outputs": [],
   "source": [
    "# 히스토그램 그리기\n",
    "h = stock_daily.hist(figsize=(10,8), bins=20)"
   ]
  },
  {
   "cell_type": "code",
   "execution_count": null,
   "id": "5ba12ae0",
   "metadata": {},
   "outputs": [],
   "source": [
    "# secondary_y 옵션을 통한 종가와 거래량에 대한 2축 그래프 그리기\n",
    "stock_daily[[\"Close\", \"Volume\"]].plot(secondary_y=\"Volume\")"
   ]
  }
 ],
 "metadata": {
  "kernelspec": {
   "display_name": "Python 3 (ipykernel)",
   "language": "python",
   "name": "python3"
  },
  "language_info": {
   "codemirror_mode": {
    "name": "ipython",
    "version": 3
   },
   "file_extension": ".py",
   "mimetype": "text/x-python",
   "name": "python",
   "nbconvert_exporter": "python",
   "pygments_lexer": "ipython3",
   "version": "3.9.12"
  },
  "toc": {
   "base_numbering": 1,
   "nav_menu": {},
   "number_sections": true,
   "sideBar": true,
   "skip_h1_title": false,
   "title_cell": "Table of Contents",
   "title_sidebar": "Contents",
   "toc_cell": false,
   "toc_position": {},
   "toc_section_display": true,
   "toc_window_display": false
  }
 },
 "nbformat": 4,
 "nbformat_minor": 5
}
