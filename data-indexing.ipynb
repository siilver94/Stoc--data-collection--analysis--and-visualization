{
 "cells": [
  {
   "cell_type": "code",
   "execution_count": null,
   "id": "b72f0a37",
   "metadata": {},
   "outputs": [],
   "source": [
    "import pandas as pd\n",
    "import seaborn as sns\n",
    "\n",
    "df = pd.read_csv(\"krx.csv\",dtype={\"Symbol\":object})"
   ]
  },
  {
   "cell_type": "code",
   "execution_count": null,
   "id": "977a62ad",
   "metadata": {},
   "outputs": [],
   "source": [
    "# 케이맨 제도에 있는 회사 찾기\n",
    "df[df[\"Region\"] == \"케이맨 제도\"]"
   ]
  },
  {
   "cell_type": "code",
   "execution_count": null,
   "id": "0227a708",
   "metadata": {},
   "outputs": [],
   "source": [
    "# 1970년 이전에 상장한 기업을 찾습니다.\n",
    "df[df[\"ListingYear\"] < 1970]"
   ]
  },
  {
   "cell_type": "code",
   "execution_count": null,
   "id": "ca848a78",
   "metadata": {},
   "outputs": [],
   "source": [
    "# 2020년 상장한 서울특별시에 소재한 코스피 종목을 찾습니다.\n",
    "df[(df[\"ListingYear\"] == 2020) &\n",
    "   (df[\"Region\"] == \"서울특별시\")&\n",
    "   (df[\"Market\"] == \"KOSPI\")]\n",
    "\n",
    "df[seoul & kospi & (df[\"ListingYear\"] == 2020)]"
   ]
  },
  {
   "cell_type": "code",
   "execution_count": null,
   "id": "c66c73bb",
   "metadata": {},
   "outputs": [],
   "source": [
    "#지역별 섹터\n",
    "\n",
    "# Sector, Region 으로 crosstab 연산을 합니다.\n",
    "# df_sr\n",
    "df_sr = pd.crosstab(df[\"Sector\"], df[\"Region\"])\n",
    "df_sr"
   ]
  },
  {
   "cell_type": "code",
   "execution_count": null,
   "id": "4ebeb53f",
   "metadata": {},
   "outputs": [],
   "source": [
    "#컬럼과 인덱스 값으로 색인\n",
    "# 특정 컬럼만 가져오기\n",
    "df_sr[[\"경기도\", \"서울특별시\"]]"
   ]
  },
  {
   "cell_type": "code",
   "execution_count": null,
   "id": "19eb307e",
   "metadata": {},
   "outputs": [],
   "source": [
    "#특정 행만 가져오기\n",
    "# df_sr에서 \"소프트웨어 개발 및 공급업\" 행만 가져오기\n",
    "df_sr.loc[\"소프트웨어 개발 및 공급업\"].sort_values(ascending=False)\n",
    "\n",
    "# loc 로 행인덱스 가져오기\n",
    "# 행에서 \"소프트웨어 개발 및 공급업\", \"금융 지원 서비스업\", \"의약품 제조업\" 가져오기\n",
    "df_sr.loc[[\"소프트웨어 개발 및 공급업\", \"금융 지원 서비스업\", \"의약품 제조업\"]]"
   ]
  },
  {
   "cell_type": "code",
   "execution_count": null,
   "id": "44372105",
   "metadata": {},
   "outputs": [],
   "source": [
    "# \"의약품 제조업\" 만 가져와서 막대그래프를 그립니다.\n",
    "drug = df_sr.loc[\"의약품 제조업\"]\n",
    "g = drug[drug > 0].sort_values().plot.barh(title = \"의약품 제조업 소재지별 빈도수\")\n",
    "\n",
    "# iloc[행]\n",
    "# iloc[행,열]\n",
    "df_sr.iloc[[0,1],[0,1]]\n",
    "\n",
    "df_sr.iloc[:5,:5]\n",
    "\n",
    "df_sr.iloc[-5:,-5:]"
   ]
  },
  {
   "cell_type": "code",
   "execution_count": null,
   "id": "6fe902f2",
   "metadata": {},
   "outputs": [],
   "source": [
    "# df.head 혹은 tail도 내부에서 iloc를 슬라이싱으로 사용하고 있습니다.\n",
    "df_sr.iloc[:, -10:].head()"
   ]
  }
 ],
 "metadata": {
  "kernelspec": {
   "display_name": "Python 3 (ipykernel)",
   "language": "python",
   "name": "python3"
  },
  "language_info": {
   "codemirror_mode": {
    "name": "ipython",
    "version": 3
   },
   "file_extension": ".py",
   "mimetype": "text/x-python",
   "name": "python",
   "nbconvert_exporter": "python",
   "pygments_lexer": "ipython3",
   "version": "3.9.12"
  },
  "toc": {
   "base_numbering": 1,
   "nav_menu": {},
   "number_sections": true,
   "sideBar": true,
   "skip_h1_title": false,
   "title_cell": "Table of Contents",
   "title_sidebar": "Contents",
   "toc_cell": false,
   "toc_position": {},
   "toc_section_display": true,
   "toc_window_display": false
  }
 },
 "nbformat": 4,
 "nbformat_minor": 5
}
