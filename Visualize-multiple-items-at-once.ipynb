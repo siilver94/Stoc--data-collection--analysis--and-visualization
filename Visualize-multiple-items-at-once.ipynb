{
 "cells": [
  {
   "cell_type": "code",
   "execution_count": null,
   "id": "0b03072b",
   "metadata": {},
   "outputs": [],
   "source": [
    "# 데이터 분석을 위해 pandas 불러오기\n",
    "import pandas as pd\n",
    "\n",
    "# FinanceDataReader 를 fdr 별칭으로 불러오기\n",
    "import FinanceDataReader as fdr\n",
    "\n",
    "\n",
    "# 데이터 분석을 위해 pandas 불러오기\n",
    "import pandas as pd\n",
    "\n",
    "# FinanceDataReader 를 fdr 별칭으로 불러오기\n",
    "import FinanceDataReader as fdr"
   ]
  },
  {
   "cell_type": "code",
   "execution_count": null,
   "id": "eb5a1267",
   "metadata": {},
   "outputs": [],
   "source": [
    "# 판다스의 plot을 통한 전체 데이터 프레임 시각화\n",
    "df.plot()"
   ]
  },
  {
   "cell_type": "code",
   "execution_count": null,
   "id": "7067bb14",
   "metadata": {},
   "outputs": [],
   "source": [
    "# 2개의 종목 비교하기 : \"삼성전자\", \"LG화학\" 을 plot으로 시각화 합니다.\n",
    "df[[\"삼성전자\", \"LG화학\"]].plot()"
   ]
  },
  {
   "cell_type": "code",
   "execution_count": null,
   "id": "2b1ce6ea",
   "metadata": {},
   "outputs": [],
   "source": [
    "#2축 그래프 사용\n",
    "# secondary_y를 사용해 2축 그래프 그리기\n",
    "df[[\"삼성전자\", \"LG화학\"]].plot(secondary_y=\"LG화학\")"
   ]
  }
 ],
 "metadata": {
  "kernelspec": {
   "display_name": "Python 3 (ipykernel)",
   "language": "python",
   "name": "python3"
  },
  "language_info": {
   "codemirror_mode": {
    "name": "ipython",
    "version": 3
   },
   "file_extension": ".py",
   "mimetype": "text/x-python",
   "name": "python",
   "nbconvert_exporter": "python",
   "pygments_lexer": "ipython3",
   "version": "3.9.12"
  },
  "toc": {
   "base_numbering": 1,
   "nav_menu": {},
   "number_sections": true,
   "sideBar": true,
   "skip_h1_title": false,
   "title_cell": "Table of Contents",
   "title_sidebar": "Contents",
   "toc_cell": false,
   "toc_position": {},
   "toc_section_display": true,
   "toc_window_display": false
  }
 },
 "nbformat": 4,
 "nbformat_minor": 5
}
